{
    "cells": [
        {
            "cell_type": "markdown",
            "metadata": {
                "collapsed": true
            },
            "source": "# Neighborhood Venues and Housing Rent"
        },
        {
            "cell_type": "markdown",
            "metadata": {},
            "source": "## Introduction"
        },
        {
            "cell_type": "markdown",
            "metadata": {},
            "source": "The main question that this project aims to determine is the relationship between venues and housing rent in the neighborhood in Santa Clara county. In another world, this project aims to answer neighborhoods with what kind of venues have higher rent cost. The answer for this question is especially important for group of people who are looking into purchase of a new house for rent/investment purpose. For this group of people, it is important that the house purchased can generate steady cashflow. With the help of this project, investor can get the idea of rent that they can receive before making a purchase by looking at venues around houses. "
        },
        {
            "cell_type": "markdown",
            "metadata": {},
            "source": "## Data"
        },
        {
            "cell_type": "markdown",
            "metadata": {},
            "source": "Foursquare location data and housing rent price in Santa Clara county are used for this project. Rental data for each neighborhood in Santa Clara County can be obtained from \u201crentcafe.com\u201d. Rent price used for this project is the average rent in each neighborhood. Each neighborhoods\u2019 surrounding venues data are obtained from Foursquare location data. With venues data, I can find top 10 venues categories for each neighborhood. With top 10 venues categories data together with average rent data for each neighborhood, I can classify neighborhoods into cluster and find the relationship between these clusters and rent price. "
        },
        {
            "cell_type": "code",
            "execution_count": null,
            "metadata": {},
            "outputs": [],
            "source": ""
        }
    ],
    "metadata": {
        "kernelspec": {
            "display_name": "Python 3.6",
            "language": "python",
            "name": "python3"
        },
        "language_info": {
            "codemirror_mode": {
                "name": "ipython",
                "version": 3
            },
            "file_extension": ".py",
            "mimetype": "text/x-python",
            "name": "python",
            "nbconvert_exporter": "python",
            "pygments_lexer": "ipython3",
            "version": "3.6.9"
        }
    },
    "nbformat": 4,
    "nbformat_minor": 1
}